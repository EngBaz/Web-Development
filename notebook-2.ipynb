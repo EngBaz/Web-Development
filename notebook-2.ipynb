{
  "cells": [
    {
      "cell_type": "markdown",
      "metadata": {
        "id": "0RGeWS1RKm0o"
      },
      "source": [
        "# Homework Assignment for Master IASD Course on Differential Privacy for Machine Learning\n",
        "\n",
        "Due by March 12, 23h00\n",
        "\n",
        "### Instructions\n",
        "\n",
        "- Your final submission should be in the form of a [Colab notebook](https://colab.research.google.com/), of which the file that you are currently viewing is an example. \n",
        "- Once you have this homework file open in your browser, you can make a personal copy of it in your Google Drive by going to \"File -> Save a copy in Drive\". In order to do this, you will need to have a Google account. \n",
        "- Once you have a copy of this Colab notebook on your Google account, you can go through the questions and fill in your answers. \n",
        "- Your code should be in the specified code blocks corresponding to each question. Please comment your code generously to help with the evaluation.\n",
        "- In addition to your code, you may create new Markdown blocks to add explanation of your answers or code. You can refer to this [link](https://colab.research.google.com/notebooks/markdown_guide.ipynb) on how to use Markdown. \n",
        "\n",
        "### Final submission\n",
        "\n",
        "- Once you have your Colab notebook ready to submit with all your answers, click on the \"Share\" button and add the email <code>muni.pydi@lamsade.dauphine.fr</code> as the Editor. \n",
        "- Before you submit, make sure that all the code blocks in your notebook run without any errors. This is very important."
      ]
    },
    {
      "cell_type": "markdown",
      "metadata": {
        "id": "dMFRm3eJKm0s"
      },
      "source": [
        "### Student Details\n",
        "\n",
        "Please fill in your details here.\n",
        "\n",
        "**Name:** Roland Baz \n",
        "\n",
        "**PSL e-mail:** roland.baz@dauphine.eu "
      ]
    },
    {
      "cell_type": "markdown",
      "metadata": {
        "id": "I3yyUirWKm0s"
      },
      "source": [
        "## The Dataset\n",
        "\n",
        "For this assignment, you will use the Statlog (German Credit Data) Data Set. The Statlog dataset classifies people described by a set of attributes as good or bad credit risks. You can read more about the dataset [here](https://archive.ics.uci.edu/ml/datasets/statlog+(german+credit+data)). \n",
        "\n",
        "We will begin by loading the data from [OpenML](https://www.openml.org/) using `fetch_openml` method of `sklearn`. "
      ]
    },
    {
      "cell_type": "code",
      "execution_count": 6,
      "metadata": {
        "id": "LwOFQlSLKm0t"
      },
      "outputs": [],
      "source": [
        "import numpy as np\n",
        "import pandas as pd\n",
        "import matplotlib.pyplot as plt\n",
        "from sklearn.datasets import fetch_openml"
      ]
    },
    {
      "cell_type": "markdown",
      "metadata": {
        "id": "VwL8uooGKm0u"
      },
      "source": [
        "In the following code block, we print the first few rows of the dataset. "
      ]
    },
    {
      "cell_type": "code",
      "execution_count": 7,
      "metadata": {
        "colab": {
          "base_uri": "https://localhost:8080/",
          "height": 403
        },
        "id": "L2GSK1V8Km0v",
        "outputId": "195b7a40-3117-47c1-d579-2c59ef95204e"
      },
      "outputs": [
        {
          "name": "stderr",
          "output_type": "stream",
          "text": [
            "c:\\Python310\\lib\\site-packages\\sklearn\\datasets\\_openml.py:968: FutureWarning: The default value of `parser` will change from `'liac-arff'` to `'auto'` in 1.4. You can set `parser='auto'` to silence this warning. Therefore, an `ImportError` will be raised from 1.4 if the dataset is dense and pandas is not installed. Note that the pandas parser may return different data types. See the Notes Section in fetch_openml's API doc for details.\n",
            "  warn(\n"
          ]
        },
        {
          "data": {
            "text/html": [
              "<div>\n",
              "<style scoped>\n",
              "    .dataframe tbody tr th:only-of-type {\n",
              "        vertical-align: middle;\n",
              "    }\n",
              "\n",
              "    .dataframe tbody tr th {\n",
              "        vertical-align: top;\n",
              "    }\n",
              "\n",
              "    .dataframe thead th {\n",
              "        text-align: right;\n",
              "    }\n",
              "</style>\n",
              "<table border=\"1\" class=\"dataframe\">\n",
              "  <thead>\n",
              "    <tr style=\"text-align: right;\">\n",
              "      <th></th>\n",
              "      <th>checking_status</th>\n",
              "      <th>duration</th>\n",
              "      <th>credit_history</th>\n",
              "      <th>purpose</th>\n",
              "      <th>credit_amount</th>\n",
              "      <th>savings_status</th>\n",
              "      <th>employment</th>\n",
              "      <th>installment_commitment</th>\n",
              "      <th>personal_status</th>\n",
              "      <th>other_parties</th>\n",
              "      <th>...</th>\n",
              "      <th>property_magnitude</th>\n",
              "      <th>age</th>\n",
              "      <th>other_payment_plans</th>\n",
              "      <th>housing</th>\n",
              "      <th>existing_credits</th>\n",
              "      <th>job</th>\n",
              "      <th>num_dependents</th>\n",
              "      <th>own_telephone</th>\n",
              "      <th>foreign_worker</th>\n",
              "      <th>class</th>\n",
              "    </tr>\n",
              "  </thead>\n",
              "  <tbody>\n",
              "    <tr>\n",
              "      <th>0</th>\n",
              "      <td>&lt;0</td>\n",
              "      <td>6</td>\n",
              "      <td>critical/other existing credit</td>\n",
              "      <td>radio/tv</td>\n",
              "      <td>1169.0</td>\n",
              "      <td>no known savings</td>\n",
              "      <td>&gt;=7</td>\n",
              "      <td>4</td>\n",
              "      <td>male single</td>\n",
              "      <td>none</td>\n",
              "      <td>...</td>\n",
              "      <td>real estate</td>\n",
              "      <td>67</td>\n",
              "      <td>none</td>\n",
              "      <td>own</td>\n",
              "      <td>2</td>\n",
              "      <td>skilled</td>\n",
              "      <td>1</td>\n",
              "      <td>yes</td>\n",
              "      <td>yes</td>\n",
              "      <td>good</td>\n",
              "    </tr>\n",
              "    <tr>\n",
              "      <th>1</th>\n",
              "      <td>0&lt;=X&lt;200</td>\n",
              "      <td>48</td>\n",
              "      <td>existing paid</td>\n",
              "      <td>radio/tv</td>\n",
              "      <td>5951.0</td>\n",
              "      <td>&lt;100</td>\n",
              "      <td>1&lt;=X&lt;4</td>\n",
              "      <td>2</td>\n",
              "      <td>female div/dep/mar</td>\n",
              "      <td>none</td>\n",
              "      <td>...</td>\n",
              "      <td>real estate</td>\n",
              "      <td>22</td>\n",
              "      <td>none</td>\n",
              "      <td>own</td>\n",
              "      <td>1</td>\n",
              "      <td>skilled</td>\n",
              "      <td>1</td>\n",
              "      <td>none</td>\n",
              "      <td>yes</td>\n",
              "      <td>bad</td>\n",
              "    </tr>\n",
              "    <tr>\n",
              "      <th>2</th>\n",
              "      <td>no checking</td>\n",
              "      <td>12</td>\n",
              "      <td>critical/other existing credit</td>\n",
              "      <td>education</td>\n",
              "      <td>2096.0</td>\n",
              "      <td>&lt;100</td>\n",
              "      <td>4&lt;=X&lt;7</td>\n",
              "      <td>2</td>\n",
              "      <td>male single</td>\n",
              "      <td>none</td>\n",
              "      <td>...</td>\n",
              "      <td>real estate</td>\n",
              "      <td>49</td>\n",
              "      <td>none</td>\n",
              "      <td>own</td>\n",
              "      <td>1</td>\n",
              "      <td>unskilled resident</td>\n",
              "      <td>2</td>\n",
              "      <td>none</td>\n",
              "      <td>yes</td>\n",
              "      <td>good</td>\n",
              "    </tr>\n",
              "    <tr>\n",
              "      <th>3</th>\n",
              "      <td>&lt;0</td>\n",
              "      <td>42</td>\n",
              "      <td>existing paid</td>\n",
              "      <td>furniture/equipment</td>\n",
              "      <td>7882.0</td>\n",
              "      <td>&lt;100</td>\n",
              "      <td>4&lt;=X&lt;7</td>\n",
              "      <td>2</td>\n",
              "      <td>male single</td>\n",
              "      <td>guarantor</td>\n",
              "      <td>...</td>\n",
              "      <td>life insurance</td>\n",
              "      <td>45</td>\n",
              "      <td>none</td>\n",
              "      <td>for free</td>\n",
              "      <td>1</td>\n",
              "      <td>skilled</td>\n",
              "      <td>2</td>\n",
              "      <td>none</td>\n",
              "      <td>yes</td>\n",
              "      <td>good</td>\n",
              "    </tr>\n",
              "    <tr>\n",
              "      <th>4</th>\n",
              "      <td>&lt;0</td>\n",
              "      <td>24</td>\n",
              "      <td>delayed previously</td>\n",
              "      <td>new car</td>\n",
              "      <td>4870.0</td>\n",
              "      <td>&lt;100</td>\n",
              "      <td>1&lt;=X&lt;4</td>\n",
              "      <td>3</td>\n",
              "      <td>male single</td>\n",
              "      <td>none</td>\n",
              "      <td>...</td>\n",
              "      <td>no known property</td>\n",
              "      <td>53</td>\n",
              "      <td>none</td>\n",
              "      <td>for free</td>\n",
              "      <td>2</td>\n",
              "      <td>skilled</td>\n",
              "      <td>2</td>\n",
              "      <td>none</td>\n",
              "      <td>yes</td>\n",
              "      <td>bad</td>\n",
              "    </tr>\n",
              "  </tbody>\n",
              "</table>\n",
              "<p>5 rows × 21 columns</p>\n",
              "</div>"
            ],
            "text/plain": [
              "  checking_status  duration                  credit_history  \\\n",
              "0              <0         6  critical/other existing credit   \n",
              "1        0<=X<200        48                   existing paid   \n",
              "2     no checking        12  critical/other existing credit   \n",
              "3              <0        42                   existing paid   \n",
              "4              <0        24              delayed previously   \n",
              "\n",
              "               purpose  credit_amount    savings_status employment  \\\n",
              "0             radio/tv         1169.0  no known savings        >=7   \n",
              "1             radio/tv         5951.0              <100     1<=X<4   \n",
              "2            education         2096.0              <100     4<=X<7   \n",
              "3  furniture/equipment         7882.0              <100     4<=X<7   \n",
              "4              new car         4870.0              <100     1<=X<4   \n",
              "\n",
              "   installment_commitment     personal_status other_parties  ...  \\\n",
              "0                       4         male single          none  ...   \n",
              "1                       2  female div/dep/mar          none  ...   \n",
              "2                       2         male single          none  ...   \n",
              "3                       2         male single     guarantor  ...   \n",
              "4                       3         male single          none  ...   \n",
              "\n",
              "   property_magnitude age  other_payment_plans   housing existing_credits  \\\n",
              "0         real estate  67                 none       own                2   \n",
              "1         real estate  22                 none       own                1   \n",
              "2         real estate  49                 none       own                1   \n",
              "3      life insurance  45                 none  for free                1   \n",
              "4   no known property  53                 none  for free                2   \n",
              "\n",
              "                  job num_dependents  own_telephone foreign_worker class  \n",
              "0             skilled              1            yes            yes  good  \n",
              "1             skilled              1           none            yes   bad  \n",
              "2  unskilled resident              2           none            yes  good  \n",
              "3             skilled              2           none            yes  good  \n",
              "4             skilled              2           none            yes   bad  \n",
              "\n",
              "[5 rows x 21 columns]"
            ]
          },
          "execution_count": 7,
          "metadata": {},
          "output_type": "execute_result"
        }
      ],
      "source": [
        "data = fetch_openml(name='credit-g', version=2, as_frame=True).frame    # Load dataset from OpenML as a Pandas Data Frame\n",
        "data.head()    # prints the first 5 rows of the dataset"
      ]
    },
    {
      "cell_type": "markdown",
      "metadata": {
        "id": "bPeE_knBKm0w"
      },
      "source": [
        "## Q0. Counting Queries\n",
        "\n",
        "This is a preparatory question in which we will go through the implemention of the Laplace mechanism for a simple counting query. The query should return the number of foreign workers in the dataset. You will use the `foreign_worker` attribute in the dataset for this task.\n",
        "\n",
        "The code and plots done for this question will serve as the model for you for answering the rest of the questions."
      ]
    },
    {
      "cell_type": "markdown",
      "metadata": {
        "id": "29QKlvUbKm0w"
      },
      "source": [
        "We will use the variable `fcount` to store the non-private count of the number of foreign workers."
      ]
    },
    {
      "cell_type": "code",
      "execution_count": 8,
      "metadata": {
        "colab": {
          "base_uri": "https://localhost:8080/"
        },
        "id": "_JiA-RsTKm0x",
        "outputId": "f6eef56f-7aba-4ea4-de82-bab75e0d3ac6"
      },
      "outputs": [
        {
          "data": {
            "text/plain": [
              "963"
            ]
          },
          "execution_count": 8,
          "metadata": {},
          "output_type": "execute_result"
        }
      ],
      "source": [
        "fcount = sum(data['foreign_worker'] == 'yes')\n",
        "fcount "
      ]
    },
    {
      "cell_type": "markdown",
      "metadata": {
        "id": "icfRoNWIKm0x"
      },
      "source": [
        "In the following code block, the function `fcountLap` implements an $\\epsilon$-DP mechanism to return the count of the number of foreign workers. Since the query is a simple count, the sensitivity of the query is 1. For generating Laplace noise, we will use `numpy.random.laplace` function."
      ]
    },
    {
      "cell_type": "code",
      "execution_count": 9,
      "metadata": {
        "colab": {
          "base_uri": "https://localhost:8080/"
        },
        "id": "YjPHucfOKm0x",
        "outputId": "f2a0bfdd-e750-46c2-fd50-3e56e1ab3ef9"
      },
      "outputs": [
        {
          "data": {
            "text/plain": [
              "956.9561427887905"
            ]
          },
          "execution_count": 9,
          "metadata": {},
          "output_type": "execute_result"
        }
      ],
      "source": [
        "from numpy.random import laplace as lp\n",
        "\n",
        "# Implementation of the function\n",
        "\n",
        "def fcountLap(count, eps):\n",
        "    return count + lp(0, 1/eps)\n",
        "\n",
        "# Testing the function\n",
        "\n",
        "eps = 0.1\n",
        "fcountLap(fcount, eps)"
      ]
    },
    {
      "cell_type": "markdown",
      "metadata": {
        "id": "XrUESPLzKm0y"
      },
      "source": [
        "You can visualize the output of the `fcountLap` method by running the method several times and plotting the histogram of the counts returned. "
      ]
    },
    {
      "cell_type": "code",
      "execution_count": 10,
      "metadata": {
        "colab": {
          "base_uri": "https://localhost:8080/",
          "height": 352
        },
        "id": "Nw25EbmQKm0y",
        "outputId": "92fc99a5-08e8-4760-dbe4-f467c220254b"
      },
      "outputs": [
        {
          "data": {
            "text/plain": [
              "(array([  1.,   2.,  17.,  41., 159., 468., 219.,  69.,  19.,   5.]),\n",
              " array([ 891.29274737,  904.0391697 ,  916.78559203,  929.53201436,\n",
              "         942.27843669,  955.02485902,  967.77128135,  980.51770368,\n",
              "         993.26412601, 1006.01054834, 1018.75697067]),\n",
              " <BarContainer object of 10 artists>)"
            ]
          },
          "execution_count": 10,
          "metadata": {},
          "output_type": "execute_result"
        },
        {
          "data": {
            "image/png": "[encoded data removed]",
            "text/plain": [
              "<Figure size 640x480 with 1 Axes>"
            ]
          },
          "metadata": {},
          "output_type": "display_data"
        }
      ],
      "source": [
        "eps = .1    # the epsilon value for epsilon-DP\n",
        "num_iter = 1000     # number of iterations to run the fcountLap mechanism\n",
        "counts = [fcountLap(fcount, eps) for i in range(num_iter)]  # counts is a list of all the noisy counts returned by the fcountLap mechanism\n",
        "plt.hist(counts)    # plot the histogram of counts"
      ]
    },
    {
      "cell_type": "markdown",
      "metadata": {
        "id": "jvXaTXC6Km0z"
      },
      "source": [
        "Observe that the histogram resembles the probability density function of the Laplace distribution."
      ]
    },
    {
      "cell_type": "markdown",
      "metadata": {
        "id": "7KjUaCRoKm0z"
      },
      "source": [
        "In the following code block, we will plot the performance of the `fcountLap` method for a range of $\\epsilon$'s."
      ]
    },
    {
      "cell_type": "code",
      "execution_count": 11,
      "metadata": {
        "colab": {
          "base_uri": "https://localhost:8080/",
          "height": 279
        },
        "id": "zapWhsbSKm0z",
        "outputId": "41cbced4-2245-412a-aa7e-b22b6b098e1a"
      },
      "outputs": [
        {
          "data": {
            "image/png": "[encoded data removed]",
            "text/plain": [
              "<Figure size 640x480 with 1 Axes>"
            ]
          },
          "metadata": {},
          "output_type": "display_data"
        }
      ],
      "source": [
        "num_iter = 100                                  # number of iterations for each epsilon\n",
        "eps_arr = np.linspace(0.1, 1.0, num=20)         # array of epsilons\n",
        "noisy_counts_mean = np.zeros_like(eps_arr)      # array of the mean noisy counts returned by fcountLap. Intialized to all zeros\n",
        "noisy_counts_std = np.zeros_like(eps_arr)       # array to store the standard deviations of the noisy counts\n",
        "exact_counts = fcount*np.ones_like(eps_arr)     # array where each entry is equal to the exact count i.e. fcount\n",
        "\n",
        "for i, eps in enumerate(eps_arr):\n",
        "    counts = [fcountLap(fcount, eps) for i in range(num_iter)]\n",
        "    noisy_counts_mean[i] = np.mean(counts)\n",
        "    noisy_counts_std[i] = np.std(counts)\n",
        "    \n",
        "fig = plt.figure()\n",
        "plt.plot(eps_arr, exact_counts, label='Exact')\n",
        "plt.plot(eps_arr, noisy_counts_mean, label='Laplace')\n",
        "plt.fill_between(eps_arr, noisy_counts_mean - noisy_counts_std, noisy_counts_mean + noisy_counts_std, alpha = 0.2)\n",
        "plt.legend(loc=\"lower right\")\n",
        "plt.xlabel(\"$\\epsilon$\")\n",
        "plt.ylabel(\"Count\")\n",
        "plt.show()"
      ]
    },
    {
      "cell_type": "markdown",
      "metadata": {
        "id": "LV2d0vaAKm00"
      },
      "source": [
        "#### Observations\n",
        "\n",
        "- Notice that the smaller $\\epsilon$ is, the greater is the \"spread\" or the standard deviation of the noisy counts of `fcountLap`\n",
        "- Notice that the mean of the noisy counts returned by `fcountLap` roughly equals the Exact count. This is because the Laplace noise is mean zero. In other words, the output of `fcountLap` is an unbiased estimate of `fcount`."
      ]
    },
    {
      "cell_type": "markdown",
      "metadata": {
        "id": "JZPjawE0Km00"
      },
      "source": [
        "## Q1. Differentially Private Arg Max\n",
        "\n",
        "In this question, you will implement various mechanisms for reporting the id of the maximum of a feature. Specifically, we will implement algorithms that report the id of the oldest person in the Statlog dataset. We begin by visualizing the histogram of ages."
      ]
    },
    {
      "cell_type": "code",
      "execution_count": 12,
      "metadata": {
        "colab": {
          "base_uri": "https://localhost:8080/",
          "height": 282
        },
        "id": "q-TT6A2pKm00",
        "outputId": "44222b57-c7fe-41d2-8bdf-1a5b93eb8829"
      },
      "outputs": [
        {
          "data": {
            "text/plain": [
              "<Axes: >"
            ]
          },
          "execution_count": 12,
          "metadata": {},
          "output_type": "execute_result"
        },
        {
          "data": {
            "image/png": "[encoded data removed]",
            "text/plain": [
              "<Figure size 640x480 with 1 Axes>"
            ]
          },
          "metadata": {},
          "output_type": "display_data"
        }
      ],
      "source": [
        "ages = data['age']\n",
        "\n",
        "ages.hist()"
      ]
    },
    {
      "cell_type": "markdown",
      "metadata": {
        "id": "jknZ1mGiKm00"
      },
      "source": [
        "### Q1.1 Arg Max\n",
        "\n",
        "In the following code block, you will implement the `ReportMax` function that takes in an array and returns the index of the maximum of the array. If there are multiple indices for the maximum value, you may choose to return any one of them."
      ]
    },
    {
      "cell_type": "code",
      "execution_count": 14,
      "metadata": {
        "colab": {
          "base_uri": "https://localhost:8080/"
        },
        "id": "UMBrpaYMKm01",
        "outputId": "5a756530-6b81-481a-e46e-8a609d439020"
      },
      "outputs": [
        {
          "name": "stdout",
          "output_type": "stream",
          "text": [
            "536\n"
          ]
        }
      ],
      "source": [
        "# Implement your function here\n",
        "\n",
        "def ReportMax(x):\n",
        "    '''\n",
        "    Parameters\n",
        "    ----------\n",
        "    x : array of shape (n, 1) for some integer n\n",
        "        Public dataset\n",
        "        \n",
        "    Returns\n",
        "    -------\n",
        "    argmax : positive integer betwen 1 and n\n",
        "        The index of the argmax of the array x\n",
        "    '''\n",
        "    n = x.size\n",
        "    \n",
        "    # TO COMPLETE\n",
        "    \n",
        "    max_age = max(x) # Find the maximum age \n",
        "\n",
        "    argmax = 0\n",
        "\n",
        "    for index, item in enumerate(x): # For loop to find the index of the maximum value\n",
        "      if item == max_age:\n",
        "        argmax = index\n",
        "\n",
        "    return argmax\n",
        "\n",
        "# Test your function here\n",
        "\n",
        "max_age = ReportMax(ages)\n",
        "print(max_age)"
      ]
    },
    {
      "cell_type": "markdown",
      "metadata": {
        "id": "gUHXraiLKm01"
      },
      "source": [
        "### Q1.2 Noisy Max with Laplace Mechanism"
      ]
    },
    {
      "cell_type": "markdown",
      "metadata": {
        "id": "34107yUNKm01"
      },
      "source": [
        "In the following code block, you will implement the `ReportNoisyMax` function that is an $\\epsilon$-DP mechanism for the `ReportMax` function above. The `ReportNoisyMax` function should implement the \"Report Noisy Max\" mechanism discussed in class. The mechanism adds i.i.d Laplace noise of scale $1/\\epsilon$ to the entries of the array and reports the index of the maximum in the noisy array.  You can refer to Claim 3.9 of [Dwork & Roth, 2014](https://www.cis.upenn.edu/~aaroth/Papers/privacybook.pdf) for a proof of why the `ReportNoisyMax` mechanism is $\\epsilon$-DP.\n",
        "\n",
        "For generating Laplace noise, you can use `numpy.random.laplace` function."
      ]
    },
    {
      "cell_type": "code",
      "execution_count": 63,
      "metadata": {
        "colab": {
          "base_uri": "https://localhost:8080/"
        },
        "id": "WdnMzICZKm01",
        "outputId": "0c770021-eafd-4dbd-a8bf-d09c1394c096"
      },
      "outputs": [
        {
          "data": {
            "text/plain": [
              "330"
            ]
          },
          "execution_count": 63,
          "metadata": {},
          "output_type": "execute_result"
        }
      ],
      "source": [
        "# Implement your function here\n",
        "\n",
        "from numpy.random import laplace as lp\n",
        "\n",
        "def ReportNoisyMax(x, eps):\n",
        "    '''\n",
        "    Parameters\n",
        "    ----------\n",
        "    x : array of shape (n, 1) for some integer n\n",
        "        Public dataset\n",
        "\n",
        "    eps : float (positive)\n",
        "        epsilon budget for DP\n",
        "        \n",
        "    Returns\n",
        "    -------\n",
        "    argmax_lap : int (positive integer betwen 1 and n)\n",
        "        An eps-DP private evaluation of the argmax\n",
        "    '''    \n",
        "\n",
        "    # TO COMPLETE\n",
        "\n",
        "    argmax_lap = 0\n",
        "    n = x.size\n",
        "\n",
        "    noisy_array = x + lp(1/eps, size=n)\n",
        "    argmax_lap = ReportMax(noisy_array)\n",
        "\n",
        "    return argmax_lap\n",
        "\n",
        "# Test your function here\n",
        "\n",
        "eps = 0.1\n",
        "ReportNoisyMax(ages,eps)"
      ]
    },
    {
      "cell_type": "markdown",
      "metadata": {
        "id": "bUJm_4HlKm02"
      },
      "source": [
        "You can visualize the output of the `ReportNoisyMax` method by running the method several times and plotting the histogram of the ages corresponding to the indices returned. In the following code block, write code to run the `ReportNoisyMax` function `num_iter` number of times for each of the three $\\epsilon$ in the `eps_arr` array. Then, plot histograms of the outputs for the counts returned by `ReportNoisyMax` for each $\\epsilon$ separately."
      ]
    },
    {
      "cell_type": "code",
      "execution_count": 16,
      "metadata": {
        "colab": {
          "base_uri": "https://localhost:8080/",
          "height": 1000
        },
        "id": "5CEbfzWXKm02",
        "outputId": "f1a68546-0e73-4992-e60c-19be9ee51628"
      },
      "outputs": [
        {
          "data": {
            "image/png": "[encoded data removed]",
            "text/plain": [
              "<Figure size 640x480 with 1 Axes>"
            ]
          },
          "metadata": {},
          "output_type": "display_data"
        },
        {
          "data": {
            "image/png": "[encoded data removed]",
            "text/plain": [
              "<Figure size 640x480 with 1 Axes>"
            ]
          },
          "metadata": {},
          "output_type": "display_data"
        },
        {
          "data": {
            "image/png": "[encoded data removed]",
            "text/plain": [
              "<Figure size 640x480 with 1 Axes>"
            ]
          },
          "metadata": {},
          "output_type": "display_data"
        }
      ],
      "source": [
        "eps_arr = np.array([0.1, 1, 10])\n",
        "num_iter = 1000\n",
        "\n",
        "for eps in eps_arr:\n",
        "\n",
        "   # TO COMPLETE\n",
        "  max_lp = [ReportNoisyMax(ages, eps) for i in range(num_iter)]\n",
        "  max_lp_age = []\n",
        "  array_len = len(max_lp)\n",
        "  for i in range(array_len):\n",
        "   index_of_age = max_lp[i]\n",
        "   max_lp_age.append(ages[index_of_age])\n",
        "\n",
        "  plt.figure()\n",
        "  plt.hist(max_lp_age)\n",
        "  plt.title(r'$\\epsilon = {}$'.format(eps))\n",
        "  plt.xlabel('Ages')\n",
        "  plt.ylabel('Counts')"
      ]
    },
    {
      "attachments": {},
      "cell_type": "markdown",
      "metadata": {
        "id": "4sL1S0ILKm02"
      },
      "source": [
        "State your observations from the above histograms below.\n",
        "\n",
        "#### Observations\n",
        "\n",
        "--SOLUTION--\n",
        "\n",
        "We observe from the histograms that all the noisy ages are around 74 and 75."
      ]
    },
    {
      "cell_type": "markdown",
      "metadata": {
        "id": "bCaP2JbVKm02"
      },
      "source": [
        "In the following code block, you will plot the performance of the `ReportNoisyMax` method against a range of $\\epsilon$'s. The method has higher performance if the age of the index it reports is close to the maximum age. Since the mechanism is random, we will compare the performance by taking the average age of the outputs over several runs.\n",
        "\n",
        "Complete the following code block by plotting the performance of the `ReportNoisyMax` method with $\\epsilon$ on the x-axis, and the mean-age of the returned `argmax_lap` on the y-axis. In addition to the mean-age, compute the standard deviation also for each $\\epsilon$, and shade the region around the mean by a lighter color like how it was done for Q0."
      ]
    },
    {
      "cell_type": "code",
      "execution_count": 64,
      "metadata": {
        "colab": {
          "base_uri": "https://localhost:8080/",
          "height": 283
        },
        "id": "GfPgNDBHKm03",
        "outputId": "463e8bcc-170d-4ff6-d8ec-da9e2d07fee5"
      },
      "outputs": [
        {
          "data": {
            "image/png": "[encoded data removed]",
            "text/plain": [
              "<Figure size 640x480 with 1 Axes>"
            ]
          },
          "metadata": {},
          "output_type": "display_data"
        }
      ],
      "source": [
        "num_iter = 100                                  # number of iterations for each epsilon\n",
        "eps_arr = np.linspace(0.1, 1.0, num=20)         # array of epsilons\n",
        "noisy_max_mean = np.zeros_like(eps_arr)      # array of the mean noisy counts returned by fcountLap. Intialized to all zeros\n",
        "noisy_max_std = np.zeros_like(eps_arr)       # array to store the standard deviations of the noisy counts\n",
        "exact_max = max_age*np.ones_like(eps_arr)     # array where each entry is equal to the exact count i.e. fcount\n",
        "\n",
        "for i, eps in enumerate(eps_arr):\n",
        "    max_lp = [ReportNoisyMax(ages, eps) for i in range(num_iter)]\n",
        "    noisy_max_mean[i] = np.mean(max_lp)\n",
        "    noisy_max_std[i] = np.std(max_lp)\n",
        "    \n",
        "fig = plt.figure()\n",
        "plt.plot(eps_arr, exact_max, label='Exact')\n",
        "plt.plot(eps_arr, noisy_max_mean, label='Laplace')\n",
        "plt.fill_between(eps_arr, noisy_max_mean - noisy_max_std, noisy_max_mean + noisy_max_std, alpha = 0.2)\n",
        "plt.legend(loc=\"lower right\")\n",
        "plt.xlabel(\"$\\epsilon$\")\n",
        "plt.ylabel(\"Index\")\n",
        "plt.show()"
      ]
    },
    {
      "attachments": {},
      "cell_type": "markdown",
      "metadata": {
        "id": "MIY4UwTXKm03"
      },
      "source": [
        "State your observations from the previous plot below.\n",
        "\n",
        "#### Observations\n",
        "\n",
        "--SOLUTION--\n",
        "\n",
        "Since "
      ]
    },
    {
      "cell_type": "markdown",
      "metadata": {
        "id": "XcaOqpW8Km03"
      },
      "source": [
        "### Q1.3 Noisy Max with Exponential Mechanism\n",
        "\n",
        "You will now implement a different mechanism for the `ReportMax` function. Let $n$ be the number of points in the dataset. You will now design an exponential mechanism that returns an index $y\\in \\{1, \\ldots, n\\}$ according to the following utility function. \n",
        "\n",
        "$u(x, y) = -\\frac{|ReportMax(x) - x[y]|}{ReportMax(x)}$\n",
        "\n",
        "From the definition of $u$, observe that the utility of $y$ is $0$ if the person with id $y$ indeed has the maximum age. If not, the utility is strictly negative. The farther the age of $y$ is to `max(ages)`, the lower is the utility.\n",
        "\n"
      ]
    },
    {
      "attachments": {},
      "cell_type": "markdown",
      "metadata": {
        "id": "O_dkcW0MKm03"
      },
      "source": [
        "Q. What is the sensitivity $\\Delta_u$ of the utility function stated above? Please support your answer with appropriate reasoning.\n",
        "\n",
        "A. --SOLUTION--\n",
        "\n",
        "Q. Given an expression for the probability $\\mathbb{P}(M_{exp}(x) == y)$ where $M_{exp}(x)$ is the output of an $\\epsilon$-DP exponential mechanism using the above utility function, and $y\\in \\{1, \\ldots, n\\}$ is an element of the output set. Use $\\LaTeX$ to state your formula precisely. \n",
        "\n",
        "\n",
        "\n",
        "A. --SOLUTION--\n",
        "\\begin{equation}\n",
        "\\mathbb{P}(M(x)=y)=\\frac{\\exp \\left(\\frac{u(x, y) \\varepsilon}{2 \\Delta_u}\\right)}{\\sum_{y^{\\prime} \\in \\mathcal{Y}} \\exp \\left(\\frac{u\\left(x, y^{\\prime}\\right) \\varepsilon}{2 \\Delta_u}\\right)}\n",
        "\\end{equation}\n"
      ]
    },
    {
      "cell_type": "markdown",
      "metadata": {
        "id": "StqxAKsAKm03"
      },
      "source": [
        "In the following code block, implement the `ReportMaxExp` function that implements an $\\epsilon$-DP mechanism for returning the argmax using the exponential mechanism with the previously stated utility function.\n",
        "\n",
        "To implement the exponential mechanism, you need to draw samples from the probability distribution over the index set $\\{1, \\ldots, n\\}$ that you stated in your previous answer. You can use `random.choices` function to draw samples from this probability distribution."
      ]
    },
    {
      "cell_type": "code",
      "execution_count": 66,
      "metadata": {
        "colab": {
          "base_uri": "https://localhost:8080/"
        },
        "id": "NU0r9d2sKm04",
        "outputId": "f60f04a6-b817-4145-8a96-b3fc3ad37c02"
      },
      "outputs": [
        {
          "name": "stdout",
          "output_type": "stream",
          "text": [
            "[58]\n"
          ]
        }
      ],
      "source": [
        "import random      # import the random package to use the random.choices function\n",
        "\n",
        "# Implement the function here\n",
        "\n",
        "def ReportMaxExp(x, eps):\n",
        "    '''\n",
        "    Parameters\n",
        "    ----------\n",
        "    x : array of shape (n, 1) for some integer n\n",
        "        Public dataset\n",
        "\n",
        "    eps : float (positive)\n",
        "        epsilon budget for DP\n",
        "        \n",
        "    Returns\n",
        "    -------\n",
        "    argmax_exp : int (positive integer betwen 1 and n)\n",
        "        An eps-DP private evaluation of the argmax\n",
        "    '''    \n",
        "\n",
        "    # TO COMPLETE\n",
        "\n",
        "    n=x.size\n",
        "    \n",
        "    indices = np.arange(1,1001,1)   # An array of indices from 1 to 1000\n",
        "    utility = []\n",
        "   \n",
        "    for i in range(n):\n",
        "        utility.append(-(abs(x[ReportMax(x)]-x[i])/(x[ReportMax(x)])))   # Calculate the utility function\n",
        "\n",
        "    # Calculate the exponential mechanism\n",
        "    denom_total = 0\n",
        "    for i in range(n):\n",
        "        xy_prime = (utility[i] * eps)/4\n",
        "        denom = np.exp(xy_prime)\n",
        "        denom_total = denom_total + denom\n",
        "\n",
        "    utility_numpy = np.array(utility)\n",
        "    utility_mult = utility_numpy * eps / 4\n",
        "    exp_utility_mult = np.exp(utility_mult)\n",
        "    formula = np.divide(exp_utility_mult, denom_total)\n",
        "    \n",
        "    argmax_exp = 0\n",
        "    argmax_exp = np.random.choice(indices, 1, p=formula)\n",
        "\n",
        "    return argmax_exp\n",
        "\n",
        "# Test the function here\n",
        "\n",
        "eps = 1\n",
        "argmax_exp = ReportMaxExp(ages, eps)\n",
        "print(argmax_exp)"
      ]
    },
    {
      "cell_type": "markdown",
      "metadata": {
        "id": "oqTdGqlgKm04"
      },
      "source": [
        "You can visualize the output of the `ReportMaxExp` method by running the method several times and plotting the histogram of the ages corresponding to the indices returned. In the following code block, write code to run the `ReportMaxExp` function `num_iter` number of times for each of the three $\\epsilon$ in the `eps_arr` array. Then, plot histograms of the outputs for the counts returned by `ReportMaxExp` for each $\\epsilon$ separately."
      ]
    },
    {
      "cell_type": "code",
      "execution_count": 68,
      "metadata": {
        "colab": {
          "base_uri": "https://localhost:8080/",
          "height": 851
        },
        "id": "mz9Jli2RKm04",
        "outputId": "679e1abd-8d41-4bd7-e017-7485eda2855c"
      },
      "outputs": [
        {
          "ename": "KeyError",
          "evalue": "\"None of [Int64Index([1000], dtype='int64')] are in the [index]\"",
          "output_type": "error",
          "traceback": [
            "\u001b[1;31m---------------------------------------------------------------------------\u001b[0m",
            "\u001b[1;31mKeyError\u001b[0m                                  Traceback (most recent call last)",
            "Cell \u001b[1;32mIn[68], line 12\u001b[0m\n\u001b[0;32m     10\u001b[0m \u001b[39mfor\u001b[39;00m i \u001b[39min\u001b[39;00m \u001b[39mrange\u001b[39m(array_len):\n\u001b[0;32m     11\u001b[0m  index_of_age \u001b[39m=\u001b[39m max_lp[i]\n\u001b[1;32m---> 12\u001b[0m  max_lp_age\u001b[39m.\u001b[39mappend(ages[index_of_age])\n\u001b[0;32m     14\u001b[0m plt\u001b[39m.\u001b[39mfigure()\n\u001b[0;32m     15\u001b[0m plt\u001b[39m.\u001b[39mhist(max_lp_age)\n",
            "File \u001b[1;32mc:\\Python310\\lib\\site-packages\\pandas\\core\\series.py:1007\u001b[0m, in \u001b[0;36mSeries.__getitem__\u001b[1;34m(self, key)\u001b[0m\n\u001b[0;32m   1004\u001b[0m     key \u001b[39m=\u001b[39m np\u001b[39m.\u001b[39masarray(key, dtype\u001b[39m=\u001b[39m\u001b[39mbool\u001b[39m)\n\u001b[0;32m   1005\u001b[0m     \u001b[39mreturn\u001b[39;00m \u001b[39mself\u001b[39m\u001b[39m.\u001b[39m_get_values(key)\n\u001b[1;32m-> 1007\u001b[0m \u001b[39mreturn\u001b[39;00m \u001b[39mself\u001b[39;49m\u001b[39m.\u001b[39;49m_get_with(key)\n",
            "File \u001b[1;32mc:\\Python310\\lib\\site-packages\\pandas\\core\\series.py:1042\u001b[0m, in \u001b[0;36mSeries._get_with\u001b[1;34m(self, key)\u001b[0m\n\u001b[0;32m   1038\u001b[0m \u001b[39mif\u001b[39;00m key_type \u001b[39m==\u001b[39m \u001b[39m\"\u001b[39m\u001b[39minteger\u001b[39m\u001b[39m\"\u001b[39m:\n\u001b[0;32m   1039\u001b[0m     \u001b[39m# We need to decide whether to treat this as a positional indexer\u001b[39;00m\n\u001b[0;32m   1040\u001b[0m     \u001b[39m#  (i.e. self.iloc) or label-based (i.e. self.loc)\u001b[39;00m\n\u001b[0;32m   1041\u001b[0m     \u001b[39mif\u001b[39;00m \u001b[39mnot\u001b[39;00m \u001b[39mself\u001b[39m\u001b[39m.\u001b[39mindex\u001b[39m.\u001b[39m_should_fallback_to_positional:\n\u001b[1;32m-> 1042\u001b[0m         \u001b[39mreturn\u001b[39;00m \u001b[39mself\u001b[39;49m\u001b[39m.\u001b[39;49mloc[key]\n\u001b[0;32m   1043\u001b[0m     \u001b[39melse\u001b[39;00m:\n\u001b[0;32m   1044\u001b[0m         \u001b[39mreturn\u001b[39;00m \u001b[39mself\u001b[39m\u001b[39m.\u001b[39miloc[key]\n",
            "File \u001b[1;32mc:\\Python310\\lib\\site-packages\\pandas\\core\\indexing.py:1073\u001b[0m, in \u001b[0;36m_LocationIndexer.__getitem__\u001b[1;34m(self, key)\u001b[0m\n\u001b[0;32m   1070\u001b[0m axis \u001b[39m=\u001b[39m \u001b[39mself\u001b[39m\u001b[39m.\u001b[39maxis \u001b[39mor\u001b[39;00m \u001b[39m0\u001b[39m\n\u001b[0;32m   1072\u001b[0m maybe_callable \u001b[39m=\u001b[39m com\u001b[39m.\u001b[39mapply_if_callable(key, \u001b[39mself\u001b[39m\u001b[39m.\u001b[39mobj)\n\u001b[1;32m-> 1073\u001b[0m \u001b[39mreturn\u001b[39;00m \u001b[39mself\u001b[39;49m\u001b[39m.\u001b[39;49m_getitem_axis(maybe_callable, axis\u001b[39m=\u001b[39;49maxis)\n",
            "File \u001b[1;32mc:\\Python310\\lib\\site-packages\\pandas\\core\\indexing.py:1301\u001b[0m, in \u001b[0;36m_LocIndexer._getitem_axis\u001b[1;34m(self, key, axis)\u001b[0m\n\u001b[0;32m   1298\u001b[0m     \u001b[39mif\u001b[39;00m \u001b[39mhasattr\u001b[39m(key, \u001b[39m\"\u001b[39m\u001b[39mndim\u001b[39m\u001b[39m\"\u001b[39m) \u001b[39mand\u001b[39;00m key\u001b[39m.\u001b[39mndim \u001b[39m>\u001b[39m \u001b[39m1\u001b[39m:\n\u001b[0;32m   1299\u001b[0m         \u001b[39mraise\u001b[39;00m \u001b[39mValueError\u001b[39;00m(\u001b[39m\"\u001b[39m\u001b[39mCannot index with multidimensional key\u001b[39m\u001b[39m\"\u001b[39m)\n\u001b[1;32m-> 1301\u001b[0m     \u001b[39mreturn\u001b[39;00m \u001b[39mself\u001b[39;49m\u001b[39m.\u001b[39;49m_getitem_iterable(key, axis\u001b[39m=\u001b[39;49maxis)\n\u001b[0;32m   1303\u001b[0m \u001b[39m# nested tuple slicing\u001b[39;00m\n\u001b[0;32m   1304\u001b[0m \u001b[39mif\u001b[39;00m is_nested_tuple(key, labels):\n",
            "File \u001b[1;32mc:\\Python310\\lib\\site-packages\\pandas\\core\\indexing.py:1239\u001b[0m, in \u001b[0;36m_LocIndexer._getitem_iterable\u001b[1;34m(self, key, axis)\u001b[0m\n\u001b[0;32m   1236\u001b[0m \u001b[39mself\u001b[39m\u001b[39m.\u001b[39m_validate_key(key, axis)\n\u001b[0;32m   1238\u001b[0m \u001b[39m# A collection of keys\u001b[39;00m\n\u001b[1;32m-> 1239\u001b[0m keyarr, indexer \u001b[39m=\u001b[39m \u001b[39mself\u001b[39;49m\u001b[39m.\u001b[39;49m_get_listlike_indexer(key, axis)\n\u001b[0;32m   1240\u001b[0m \u001b[39mreturn\u001b[39;00m \u001b[39mself\u001b[39m\u001b[39m.\u001b[39mobj\u001b[39m.\u001b[39m_reindex_with_indexers(\n\u001b[0;32m   1241\u001b[0m     {axis: [keyarr, indexer]}, copy\u001b[39m=\u001b[39m\u001b[39mTrue\u001b[39;00m, allow_dups\u001b[39m=\u001b[39m\u001b[39mTrue\u001b[39;00m\n\u001b[0;32m   1242\u001b[0m )\n",
            "File \u001b[1;32mc:\\Python310\\lib\\site-packages\\pandas\\core\\indexing.py:1432\u001b[0m, in \u001b[0;36m_LocIndexer._get_listlike_indexer\u001b[1;34m(self, key, axis)\u001b[0m\n\u001b[0;32m   1429\u001b[0m ax \u001b[39m=\u001b[39m \u001b[39mself\u001b[39m\u001b[39m.\u001b[39mobj\u001b[39m.\u001b[39m_get_axis(axis)\n\u001b[0;32m   1430\u001b[0m axis_name \u001b[39m=\u001b[39m \u001b[39mself\u001b[39m\u001b[39m.\u001b[39mobj\u001b[39m.\u001b[39m_get_axis_name(axis)\n\u001b[1;32m-> 1432\u001b[0m keyarr, indexer \u001b[39m=\u001b[39m ax\u001b[39m.\u001b[39;49m_get_indexer_strict(key, axis_name)\n\u001b[0;32m   1434\u001b[0m \u001b[39mreturn\u001b[39;00m keyarr, indexer\n",
            "File \u001b[1;32mc:\\Python310\\lib\\site-packages\\pandas\\core\\indexes\\base.py:6070\u001b[0m, in \u001b[0;36mIndex._get_indexer_strict\u001b[1;34m(self, key, axis_name)\u001b[0m\n\u001b[0;32m   6067\u001b[0m \u001b[39melse\u001b[39;00m:\n\u001b[0;32m   6068\u001b[0m     keyarr, indexer, new_indexer \u001b[39m=\u001b[39m \u001b[39mself\u001b[39m\u001b[39m.\u001b[39m_reindex_non_unique(keyarr)\n\u001b[1;32m-> 6070\u001b[0m \u001b[39mself\u001b[39;49m\u001b[39m.\u001b[39;49m_raise_if_missing(keyarr, indexer, axis_name)\n\u001b[0;32m   6072\u001b[0m keyarr \u001b[39m=\u001b[39m \u001b[39mself\u001b[39m\u001b[39m.\u001b[39mtake(indexer)\n\u001b[0;32m   6073\u001b[0m \u001b[39mif\u001b[39;00m \u001b[39misinstance\u001b[39m(key, Index):\n\u001b[0;32m   6074\u001b[0m     \u001b[39m# GH 42790 - Preserve name from an Index\u001b[39;00m\n",
            "File \u001b[1;32mc:\\Python310\\lib\\site-packages\\pandas\\core\\indexes\\base.py:6130\u001b[0m, in \u001b[0;36mIndex._raise_if_missing\u001b[1;34m(self, key, indexer, axis_name)\u001b[0m\n\u001b[0;32m   6128\u001b[0m     \u001b[39mif\u001b[39;00m use_interval_msg:\n\u001b[0;32m   6129\u001b[0m         key \u001b[39m=\u001b[39m \u001b[39mlist\u001b[39m(key)\n\u001b[1;32m-> 6130\u001b[0m     \u001b[39mraise\u001b[39;00m \u001b[39mKeyError\u001b[39;00m(\u001b[39mf\u001b[39m\u001b[39m\"\u001b[39m\u001b[39mNone of [\u001b[39m\u001b[39m{\u001b[39;00mkey\u001b[39m}\u001b[39;00m\u001b[39m] are in the [\u001b[39m\u001b[39m{\u001b[39;00maxis_name\u001b[39m}\u001b[39;00m\u001b[39m]\u001b[39m\u001b[39m\"\u001b[39m)\n\u001b[0;32m   6132\u001b[0m not_found \u001b[39m=\u001b[39m \u001b[39mlist\u001b[39m(ensure_index(key)[missing_mask\u001b[39m.\u001b[39mnonzero()[\u001b[39m0\u001b[39m]]\u001b[39m.\u001b[39munique())\n\u001b[0;32m   6133\u001b[0m \u001b[39mraise\u001b[39;00m \u001b[39mKeyError\u001b[39;00m(\u001b[39mf\u001b[39m\u001b[39m\"\u001b[39m\u001b[39m{\u001b[39;00mnot_found\u001b[39m}\u001b[39;00m\u001b[39m not in index\u001b[39m\u001b[39m\"\u001b[39m)\n",
            "\u001b[1;31mKeyError\u001b[0m: \"None of [Int64Index([1000], dtype='int64')] are in the [index]\""
          ]
        }
      ],
      "source": [
        "eps_arr = np.array([0.1, 1, 10])\n",
        "num_iter = 1000\n",
        "\n",
        "for eps in eps_arr:\n",
        "\n",
        "   # TO COMPLETE\n",
        "  max_lp = [ReportMaxExp(ages, eps) for i in range(num_iter)]\n",
        "  max_lp_age = []\n",
        "  array_len = len(max_lp)\n",
        "  for i in range(array_len):\n",
        "   index_of_age = max_lp[i]\n",
        "   max_lp_age.append(ages[index_of_age])\n",
        "\n",
        "  plt.figure()\n",
        "  plt.hist(max_lp_age)\n",
        "  plt.title(r'$\\epsilon = {}$'.format(eps))\n",
        "  plt.xlabel('Ages')\n",
        "  plt.ylabel('Counts')"
      ]
    },
    {
      "cell_type": "markdown",
      "metadata": {
        "id": "p2_Ob4_BKm04"
      },
      "source": [
        "State your observations from the above histograms below.\n",
        "\n",
        "#### Observations\n",
        "\n",
        "--TO COMPLETE--"
      ]
    },
    {
      "cell_type": "markdown",
      "metadata": {
        "id": "e43_DHmSKm04"
      },
      "source": [
        "In the following code block, you will plot the performance of the `ReportMaxExp` method against a range of $\\epsilon$'s. The method has higher performance if the age of the index it reports is close to the maximum age. Since the mechanism is random, we will compare the performance by taking the average age of the outputs over several runs.\n",
        "\n",
        "Complete the following code block by plotting the performance of the `ReportMaxExp` method with $\\epsilon$ on the x-axis, and the mean-age of the returned `argmax_exp` on the y-axis. In addition to the mean-age, compute the standard deviation also for each $\\epsilon$, and shade the region around the mean by a lighter color like how it was done for Q0."
      ]
    },
    {
      "cell_type": "code",
      "execution_count": 35,
      "metadata": {
        "colab": {
          "base_uri": "https://localhost:8080/",
          "height": 300
        },
        "id": "vBp1WNIDKm05",
        "outputId": "6a56ab12-44fa-49be-a37d-71a3d891014a"
      },
      "outputs": [
        {
          "data": {
            "image/png": "[encoded data removed]",
            "text/plain": [
              "<Figure size 640x480 with 1 Axes>"
            ]
          },
          "metadata": {},
          "output_type": "display_data"
        }
      ],
      "source": [
        "num_iter = 100                               \n",
        "eps_arr = np.linspace(0.1, 1.0, num=20)      \n",
        "\n",
        "# TO COMPLETE\n",
        "\n",
        "noisy_max_mean_exp = np.zeros_like(eps_arr)      \n",
        "noisy_max_std_exp = np.zeros_like(eps_arr)       \n",
        "exact_max = max_age*np.ones_like(eps_arr)   \n",
        "  \n",
        "for i, eps in enumerate(eps_arr):\n",
        "\n",
        "  # TO COMPLETE\n",
        "  max_exp = [ReportMaxExp(ages, eps) for i in range (num_iter)]\n",
        "  noisy_max_mean_exp[i] = np.mean(max_exp)\n",
        "  noisy_max_std_exp[i] = np.std(max_exp)\n",
        "  pass\n",
        "    \n",
        "fig = plt.figure()\n",
        "plt.plot(eps_arr, exact_max, label='Exact')\n",
        "plt.plot(eps_arr, noisy_max_mean_exp, label='Exp')\n",
        "plt.fill_between(eps_arr, noisy_max_mean_exp - noisy_max_std_exp, noisy_max_mean_exp + noisy_max_std_exp, alpha = 0.2)\n",
        "plt.legend(loc=\"lower right\")\n",
        "plt.xlabel(\"$\\epsilon$\")\n",
        "plt.ylabel(\"Index\")\n",
        "plt.show()"
      ]
    },
    {
      "cell_type": "markdown",
      "metadata": {
        "id": "sfkfj8ZqKm05"
      },
      "source": [
        "State your observations from the previous plot below.\n",
        "\n",
        "#### Observations\n",
        "\n",
        "--TO COMPLETE--"
      ]
    },
    {
      "cell_type": "markdown",
      "metadata": {
        "id": "XSWBZuWhKm05"
      },
      "source": [
        "### Q1.4 Noisy Max with Exponential Mechanism (Inverse Sensitivity)\n",
        "\n",
        "You will now implement a third mechanism for the `ReportMax` function, this time using the Inverse Sensitivity Function (ISF) as the utility function. \n",
        "\n",
        "${ISF}(x, y) = -\\max\\{ k: \\exists x' : d(x,x')=k ~\\text{and}~ k\\in \\argmax(x') \\}  $"
      ]
    },
    {
      "attachments": {},
      "cell_type": "markdown",
      "metadata": {
        "id": "WzWAnDbLKm05"
      },
      "source": [
        "Answer the following questions on the ISF utiity function defined above.\n",
        "\n",
        "Q. What is the value of $ISF(x, \\argmax(x))$ ?\n",
        "\n",
        "A. --SOLUTION--\n",
        "\n",
        " $ISF(x, \\argmax(x))$ = 0\n",
        "\n",
        "Q. Suppose $n$ is the size of $x$. Let $n_{min}$ be the number of indices that attain the minimum in $x$. What is the value of $ISF(x, \\argmin(x))$?\n",
        "\n",
        "A. --SOLUTION--\n",
        "\n",
        "$ISF(x, \\argmin(x))$ = 1"
      ]
    },
    {
      "cell_type": "markdown",
      "metadata": {
        "id": "N0y18RIDKm05"
      },
      "source": [
        "In the following code block, implement a function that computes the above utility for $y\\in \\{1, \\ldots, n\\}$."
      ]
    },
    {
      "cell_type": "code",
      "execution_count": 44,
      "metadata": {
        "id": "jYvNbN3UKm05"
      },
      "outputs": [],
      "source": [
        "def ISF(x, y):\n",
        "    '''\n",
        "    Parameters\n",
        "    ----------\n",
        "    x : array of shape (n, 1) for some integer n\n",
        "        Public dataset\n",
        "\n",
        "    y : int (positive integer betwen 1 and n)\n",
        "        index variable\n",
        "        \n",
        "    Returns\n",
        "    -------\n",
        "    sens : int (positive integer betwen 1 and n)\n",
        "        Inverse Sensitivity Function of database x for output y\n",
        "    '''   \n",
        "    \n",
        "    # TO COMPLETE\n",
        "    sens = 0\n",
        "    value = x[y]\n",
        "    report_max_index = ReportMax(x)\n",
        "    report_max_value = ages[report_max_index]\n",
        "    if(value == report_max_value):\n",
        "        sens = 1\n",
        "    else:\n",
        "        sens = 0\n",
        "    \n",
        "    return sens\n"
      ]
    },
    {
      "cell_type": "markdown",
      "metadata": {
        "id": "jqQwWl4qKm06"
      },
      "source": [
        "In the following code block, test the correctness of the above function by checking that it computes the correct values for $ISF(x, \\argmax(x))$ and $ISF(x, \\argmin(x))$."
      ]
    },
    {
      "cell_type": "code",
      "execution_count": 43,
      "metadata": {
        "colab": {
          "base_uri": "https://localhost:8080/"
        },
        "id": "RecuR1UEKm06",
        "outputId": "2b8c899a-d923-4cdf-bb6a-43c29e8c1363"
      },
      "outputs": [
        {
          "name": "stdout",
          "output_type": "stream",
          "text": [
            "True\n",
            "True\n"
          ]
        }
      ],
      "source": [
        "isf_argmax = 0 # set this value to your answer for ISF(x, argmax(x))\n",
        "isf_argmin = 1  # set this value to your answer for ISF(x, argmin(x))\n",
        "\n",
        "print(ISF(ages, np.argmin(ages)) == isf_argmax)\n",
        "print(ISF(ages, np.argmax(ages)) == isf_argmin)"
      ]
    },
    {
      "cell_type": "markdown",
      "metadata": {
        "id": "1YDaogzgKm06"
      },
      "source": [
        "In the following code block, implement the `ReportMaxExpISF` function that employs the exponential mechanism for reporting noisy max using the negative of the ISF as the utility."
      ]
    },
    {
      "cell_type": "code",
      "execution_count": 61,
      "metadata": {
        "colab": {
          "base_uri": "https://localhost:8080/"
        },
        "id": "wv75Ho-cKm06",
        "outputId": "dbd2586f-b16e-467a-9c4c-a4f9673e1f92"
      },
      "outputs": [
        {
          "data": {
            "text/plain": [
              "265"
            ]
          },
          "execution_count": 61,
          "metadata": {},
          "output_type": "execute_result"
        }
      ],
      "source": [
        "# Implement your function here\n",
        "\n",
        "def ReportMaxExpISF(x, eps):\n",
        "    '''\n",
        "    Parameters\n",
        "    ----------\n",
        "    x : array of shape (n, 1) for some integer n\n",
        "        Public dataset\n",
        "\n",
        "    eps : float (positive)\n",
        "        epsilon budget for DP\n",
        "        \n",
        "    Returns\n",
        "    -------\n",
        "    argmax_expISF : int (positive integer betwen 1 and n)\n",
        "        An eps-DP private evaluation of the argmax\n",
        "    '''         \n",
        "\n",
        "\n",
        "    # TO COMPLETE\n",
        "    indices = np.arange(1,1001,1)   # An array of indices from 1 to 1000\n",
        "    n = x.size\n",
        "    argmax_expISF = 0\n",
        "    utility = []\n",
        "    for i in range(n):\n",
        "        utility.append(ISF(ages,i))\n",
        "\n",
        "    denom_total = 0\n",
        "    for i in range(n):\n",
        "        xy_prime = (utility[i] * eps)/4\n",
        "        denom = np.exp(xy_prime)\n",
        "        denom_total = denom_total + denom\n",
        "\n",
        "    utility_numpy = np.array(utility)\n",
        "    utility_mult = utility_numpy * eps / 4\n",
        "    exp_utility_mult = np.exp(utility_mult)\n",
        "    formula = np.divide(exp_utility_mult, denom_total)\n",
        "    #print(formula)\n",
        "\n",
        "    argmax_expISF = 0\n",
        "    argmax_expISF = np.random.choice(indices, 1, p=formula)[0]\n",
        "\n",
        "    return argmax_expISF\n",
        "\n",
        "# Test your function here\n",
        "\n",
        "eps = 1\n",
        "ReportMaxExpISF(ages, eps)\n"
      ]
    },
    {
      "cell_type": "markdown",
      "metadata": {
        "id": "lUmdMUH6Km06"
      },
      "source": [
        "You can visualize the output of the `ReportMaxExpISF` method by running the method several times and plotting the histogram of the ages corresponding to the indices returned. In the following code block, write code to run the `ReportMaxExpISF` function `num_iter` number of times for each of the three $\\epsilon$ in the `eps_arr` array. Then, plot histograms of the outputs for the counts returned by `ReportMaxExpISF` for each $\\epsilon$ separately."
      ]
    },
    {
      "cell_type": "code",
      "execution_count": 62,
      "metadata": {
        "colab": {
          "base_uri": "https://localhost:8080/",
          "height": 851
        },
        "id": "aovfZgAoKm06",
        "outputId": "64fd38fb-2a2c-4500-e998-4e402cb452d5"
      },
      "outputs": [
        {
          "data": {
            "image/png": "[encoded data removed]",
            "text/plain": [
              "<Figure size 640x480 with 1 Axes>"
            ]
          },
          "metadata": {},
          "output_type": "display_data"
        },
        {
          "data": {
            "image/png": "[encoded data removed]",
            "text/plain": [
              "<Figure size 640x480 with 1 Axes>"
            ]
          },
          "metadata": {},
          "output_type": "display_data"
        },
        {
          "data": {
            "image/png": "[encoded data removed]",
            "text/plain": [
              "<Figure size 640x480 with 1 Axes>"
            ]
          },
          "metadata": {},
          "output_type": "display_data"
        }
      ],
      "source": [
        "eps_arr = np.array([.01, .1, 1])\n",
        "num_iter = 20\n",
        "\n",
        "for eps in eps_arr:\n",
        "    # TO COMPLETE\n",
        "    plt.figure()\n",
        "    plt.xlabel('Ages')\n",
        "    plt.ylabel('Counts')\n",
        "    plt.title(r'$\\epsilon = {}$'.format(eps))"
      ]
    },
    {
      "cell_type": "markdown",
      "metadata": {
        "id": "fHV_peggKm07"
      },
      "source": [
        "Complete the following code block by plotting the performance of the `ReportMaxExpISF` method with $\\epsilon$ on the x-axis, and the mean-age of the returned `argmax_exp` on the y-axis. In addition to the mean-age, compute the standard deviation also for each $\\epsilon$, and shade the region around the mean by a lighter color like how it was done for Q0."
      ]
    },
    {
      "cell_type": "code",
      "execution_count": null,
      "metadata": {
        "colab": {
          "base_uri": "https://localhost:8080/",
          "height": 300
        },
        "id": "0cS6KvmAKm07",
        "outputId": "29939938-f047-487a-8f16-2f4c9b7ab11e"
      },
      "outputs": [
        {
          "name": "stderr",
          "output_type": "stream",
          "text": [
            "WARNING:matplotlib.legend:No handles with labels found to put in legend.\n"
          ]
        },
        {
          "data": {
            "image/png": "[encoded data removed]",
            "text/plain": [
              "<Figure size 432x288 with 1 Axes>"
            ]
          },
          "metadata": {
            "needs_background": "light"
          },
          "output_type": "display_data"
        }
      ],
      "source": [
        "num_iter = 20\n",
        "eps_arr = np.linspace(.1, 1, num=5)\n",
        "\n",
        "# TO COMPLETE\n",
        "\n",
        "for i, eps in enumerate(eps_arr):\n",
        "    # TO COMPLETE\n",
        "    pass\n",
        "    \n",
        "fig = plt.figure()\n",
        "\n",
        "# TO COMPLETE\n",
        "\n",
        "plt.legend(loc=\"lower right\")\n",
        "plt.xlabel(\"$\\epsilon$\")\n",
        "plt.ylabel(\"Mean output of Max Age\")\n",
        "plt.show()"
      ]
    },
    {
      "cell_type": "markdown",
      "metadata": {
        "id": "gVbaDMrtKm07"
      },
      "source": [
        "Answer the following questions.\n",
        "\n",
        "Q. In what order would you rank the three mechanisms `ReportNoisyMax`, `ReportMaxExp` and `ReportMaxExpISF` in terms of running time? Justify your answer with appropriate mathematical reasoning.\n",
        "\n",
        "A. --TO COMPLETE--\n",
        "\n",
        "Q. In what order would you rank the three mechanisms `ReportNoisyMax`, `ReportMaxExp` and `ReportMaxExpISF` in terms of performance? Justify your answer with appropriate reasoning.\n",
        "\n",
        "A. --TO COMPLETE--"
      ]
    },
    {
      "cell_type": "markdown",
      "metadata": {
        "id": "Ha9L7cGfKm07"
      },
      "source": [
        "## Q2. Differentially Private Simple Linear Regression\n",
        "\n",
        "For this question, you will implement differentially private mechanisms for simple linear regression with `duration` as the regressor $x$ and `credit amount` as the target $y$. Given $\\{(x_i,y_i)\\}_{i=1}^n$, the task is to find the parameters $(\\beta_0, \\beta_1)$ to fit the following linear model,\n",
        "\n",
        "$y = \\beta_0 x + \\beta_1$.\n",
        "\n",
        "Let $X$ denote the $n\\times 2$ matrix whose first column is composed of $x_1, \\ldots, x_n$ and second column composed of all ones. Let $\\beta = [\\beta_0 \\ \\beta_1]^T$. Recall that the ordinary least squares (OLS) solution to the problem is the following.\n",
        "\n",
        "$$\n",
        "\\hat{\\beta}_{OLS} = (X^TX)^{-1}X^Ty\n",
        "=   \\begin{bmatrix} \n",
        "    \\sum_i x_i^2 & \\sum_i x_i\\\\\n",
        "    \\sum_i x_i & n\n",
        "    \\end{bmatrix}^{-1}\n",
        "    \\begin{bmatrix} \n",
        "    \\sum_i x_iy_i\\\\\n",
        "    \\sum_i y_i\n",
        "    \\end{bmatrix}\n",
        "$$.\n"
      ]
    },
    {
      "cell_type": "markdown",
      "metadata": {
        "id": "DU3pl6BJKm07"
      },
      "source": [
        "### Q2.1 Linear Regression with OLS\n",
        "\n",
        "In the following code block, implement the function `LinReg` that computes $\\beta$ using the OLS formula above."
      ]
    },
    {
      "cell_type": "code",
      "execution_count": 18,
      "metadata": {
        "colab": {
          "base_uri": "https://localhost:8080/"
        },
        "id": "z15MVhUCKm07",
        "outputId": "d530bf69-a7e3-45b6-fb34-ea75c1c3ed62"
      },
      "outputs": [],
      "source": [
        "def LinReg(x,y):\n",
        "    '''\n",
        "    Parameters\n",
        "    ----------\n",
        "    x : array of shape (n, 1) for some integer n\n",
        "        Public dataset of regressor\n",
        "\n",
        "    y : array of shape (n, 1) for some integer n\n",
        "        Public dataset of target\n",
        "        \n",
        "    Returns\n",
        "    -------\n",
        "    beta_ols : array of shape (2, 1)\n",
        "        OLS solution to linear regression with data (x,y)\n",
        "        beta_ols[0] is the slope\n",
        "        beta_ols[1] is the y-intercept\n",
        "        The model is y = beta_ols[0]*x + beta_ols[1]\n",
        "    '''       \n",
        "\n",
        "    # TO COMPLETE\n",
        "    \n",
        "    n=x.size\n",
        "    X = [] # Defining an empty array X\n",
        "\n",
        "    # Adding the elements of x to the first column of X and 1 to the second column of X\n",
        "    for i in range(n):\n",
        "      X.append([x[i],1])\n",
        "\n",
        "    X_numpy = np.array(X)\n",
        "    X_product = np.dot(X_numpy.transpose(), X_numpy)\n",
        "    X_inverse = np.linalg.inv(X_product)\n",
        "    X_inverse_X_transpose = np.dot(X_inverse, X_numpy.transpose())\n",
        "    beta_ols = np.dot(X_inverse_X_transpose,y)\n",
        "    return beta_ols"
      ]
    },
    {
      "cell_type": "markdown",
      "metadata": {
        "id": "tdLYqdZRKm08"
      },
      "source": [
        "In the following code block, test the `LinReg` function with x as the vector of ages and y as the vector of credit amounts. visualize the output of `LinReg` by plotting $(x,y)$ on a scatter plot and then plotting the predictions $\\hat{y} = \\hat{\\beta}_0 x + \\hat{\\beta}_1$, where $\\hat{\\beta}$ is the output of `LinReg(x,y)`."
      ]
    },
    {
      "cell_type": "code",
      "execution_count": 35,
      "metadata": {
        "colab": {
          "base_uri": "https://localhost:8080/",
          "height": 281
        },
        "id": "WSIVx-rAKm08",
        "outputId": "0b568a0f-3086-4f2f-c6cb-018d92302f45"
      },
      "outputs": [
        {
          "data": {
            "image/png": "[encoded data removed]",
            "text/plain": [
              "<Figure size 640x480 with 1 Axes>"
            ]
          },
          "metadata": {},
          "output_type": "display_data"
        }
      ],
      "source": [
        "x = np.array(data['duration'])\n",
        "y = np.array(data['credit_amount']) \n",
        "\n",
        "beta_ols = np.zeros((2,1)) # TO COMPLETE\n",
        "beta_ols = LinReg(x,y)\n",
        "yhat_ols = beta_ols[0]*x + beta_ols[1]  # TO COMPLETE\n",
        "\n",
        "plt.scatter(x,y)\n",
        "plt.plot(x, yhat_ols, color='k')\n",
        "plt.title('Linear regression with OLS')\n",
        "plt.show()"
      ]
    },
    {
      "cell_type": "markdown",
      "metadata": {
        "id": "E0crzlwWKm08"
      },
      "source": [
        "### Q2.2 Linear Regression with Laplace Mechanism"
      ]
    },
    {
      "attachments": {},
      "cell_type": "markdown",
      "metadata": {
        "id": "FDCb6yKkKm08"
      },
      "source": [
        "from now on, we sssume that $x_i \\in [0, B_x]$ and $y_i \\in [0, B_y]$. \n",
        "\n",
        "Q. Give the expressions for the sensitivity of each of the four terms that appear in the OLS formula for $\\hat{\\beta}$ --- $\\sum_i x_i^2, \\sum_i x_i, \\sum_i x_i y_i$ and $\\sum_i y_i$ in terms of $B_x$ and $B_y$.\n",
        "\n",
        "A. --TO COMPLETE--\n"
      ]
    },
    {
      "cell_type": "markdown",
      "metadata": {
        "id": "b-cxDDTtKm08"
      },
      "source": [
        "You will now implement a $\\epsilon$-DP mechanism for estimating $\\hat{\\beta}$ from $\\{(x_i,y_i)\\}_{i=1}^n$, using the following strategy.\n",
        "\n",
        "1. Split the privacy budget $\\epsilon$ into four parts\n",
        "2. Use the Laplace mechanism with appropriate privacy budgets to estimate the four quantities  $\\sum_i x_i^2, \\sum_i x_i, \\sum_i x_i y_i$ and $\\sum_i y_i$. For this step, you will use the sensitivity of the quantities that you derived above, in order to set the apropriate scaling for the Laplace noise. \n",
        "3. Compute $\\hat{\\beta}_{Lap}$ using the private estimats of  $\\sum_i x_i^2, \\sum_i x_i, \\sum_i x_i y_i$ and $\\sum_i y_i$ in place of the exact quantities in the OLS formula for $\\hat{\\beta}$."
      ]
    },
    {
      "cell_type": "markdown",
      "metadata": {
        "id": "m-aiwusKKm08"
      },
      "source": [
        "As preparation for implementing the above mechanism, in the following code block, implement a generic Laplace mechanism in the function `LapMech`. "
      ]
    },
    {
      "cell_type": "code",
      "execution_count": 85,
      "metadata": {
        "id": "tE1N7g26Km08"
      },
      "outputs": [],
      "source": [
        "def LapMech(f, sens, eps):\n",
        "    '''\n",
        "    Parameters\n",
        "    ----------\n",
        "    f : float\n",
        "        non-private query output\n",
        "\n",
        "    sens : float\n",
        "        Sensitivity of the query\n",
        "\n",
        "    eps : float (positive)\n",
        "        epsilon budget for DP\n",
        "        \n",
        "    Returns\n",
        "    -------\n",
        "    fpriv : float\n",
        "        private query output\n",
        "    '''    \n",
        "    # TO COMPLETE\n",
        "\n",
        "    fpriv = 0\n",
        "\n",
        "    fpriv = f + np.random.laplace(loc=0, scale=sens/eps)\n",
        "\n",
        "    return fpriv"
      ]
    },
    {
      "cell_type": "markdown",
      "metadata": {
        "id": "boXDR-ykKm09"
      },
      "source": [
        "In the following code block, implement the `LinRegLap` function that gives an $\\epsilon$-DP mechanism for estimating $\\hat{\\beta}$ from $(x,y)$. In your code for `LinRegLap`, make use of the `LapMech` function to compute $\\sum_i x_i^2, \\sum_i x_i, \\sum_i x_i y_i$ and $\\sum_i y_i$ privately. Using these, compute $\\hat{\\beta}_{Lap}$."
      ]
    },
    {
      "cell_type": "code",
      "execution_count": 86,
      "metadata": {
        "id": "gAnYIqn-Km09"
      },
      "outputs": [],
      "source": [
        "def LinRegLap(x, y, Bx, By, eps):\n",
        "    '''\n",
        "    Parameters\n",
        "    ----------\n",
        "    x : array of shape (n, 1) for some integer n\n",
        "        Public dataset of regressor\n",
        "\n",
        "    y : array of shape (n, 1) for some integer n\n",
        "        Public dataset of target\n",
        "\n",
        "    Bx : float\n",
        "        Max value of x, i.e., x is in range [0, Bx]\n",
        "\n",
        "    By : float\n",
        "        Max value of y, i.e., y is in range [0, By]\n",
        "\n",
        "    eps : float (positive)\n",
        "        epsilon budget for DP        \n",
        "\n",
        "    Returns\n",
        "    -------\n",
        "    beta_lap : array of shape (2, 1)\n",
        "        Estimate of the linear regression parameter beta with data (x,y)\n",
        "    '''      \n",
        "\n",
        "    # TO COMPLETE\n",
        "\n",
        "    beta_lap = np.zeros((2,1))\n",
        "\n",
        "    split_eps = eps / 4\n",
        "    sum_x_square =np.sum(x*2) + np.random.laplace(loc=0, scale= Bx*2/split_eps) \n",
        "    sum_x = np.sum(x) + np.random.laplace(loc=0, scale=Bx/split_eps) \n",
        "    sum_x_y = np.sum(x*y) + np.random.laplace(loc=0, scale=Bx*By/split_eps)\n",
        "    sum_y = np.sum(y) + np.random.laplace(loc=0, scale=By/split_eps)\n",
        "    \n",
        "    return beta_lap"
      ]
    },
    {
      "cell_type": "markdown",
      "metadata": {
        "id": "ZHi_93WVKm09"
      },
      "source": [
        "In the following code block, test the `LinRegLap` function with x as the vector of durations and y as the vector of credit amounts. visualize the output of `LinRegLap` by plotting $(x,y)$ on a scatter plot and then plotting the predictions $\\hat{y} = \\hat{\\beta}_1 x + \\hat{\\beta}_0$. In the same figure, also plot the predictions from $\\hat{\\beta}_{OLS}$. Label both the predictions with different colors and place a `legend` in the figure.\n",
        "\n",
        "Use $B_x = 100$ (i.e. the maximum duration is 100 months) and $B_y = 20000$ (i.e. the maximum credit amount is 20,000)."
      ]
    },
    {
      "cell_type": "code",
      "execution_count": null,
      "metadata": {
        "colab": {
          "base_uri": "https://localhost:8080/",
          "height": 297
        },
        "id": "EkGeP72sKm09",
        "outputId": "b0b17179-aa49-47a0-b9b6-cb2d5588fdc7"
      },
      "outputs": [
        {
          "data": {
            "image/png": "[encoded data removed]",
            "text/plain": [
              "<Figure size 432x288 with 1 Axes>"
            ]
          },
          "metadata": {
            "needs_background": "light"
          },
          "output_type": "display_data"
        }
      ],
      "source": [
        "Bx = 100\n",
        "By = 20000\n",
        "eps = 1\n",
        "\n",
        "betaLap = np.zeros((2,1))   # TO COMPLETE\n",
        "yhatLap = y*0   # TO COMPLETE\n",
        "\n",
        "\n",
        "plt.xlabel(r'$x$ - duration')\n",
        "plt.ylabel(r'$y$ - credit amount')\n",
        "plt.title('Linear regression with Laplace Mechanism')\n",
        "plt.show()"
      ]
    },
    {
      "cell_type": "markdown",
      "metadata": {
        "id": "vR-A3zApKm1A"
      },
      "source": [
        "Q. Redo the above code block with different values of $\\epsilon$. State your observations below.\n",
        "\n",
        "A. --TO COMPLETE--"
      ]
    },
    {
      "cell_type": "markdown",
      "metadata": {
        "id": "NyDw9uNQKm1A"
      },
      "source": [
        "To measure the performance of the mechanism `LinRegLap`, we compute the root mean squared error (RMSE) averaged over multiple runs of the mechanism. The RMSE between the true target vector $y$ and predicted target vector $\\hat{y}$ is given by,\n",
        "\n",
        "$RMSE(y, \\hat{y}) = \\sqrt{\\frac{1}{n}(y - \\hat{y})^2}$.\n",
        "\n",
        "In the following code block, implement the function `rmse` to compute the MSE."
      ]
    },
    {
      "cell_type": "code",
      "execution_count": null,
      "metadata": {
        "id": "PUcoWGubKm1A"
      },
      "outputs": [],
      "source": [
        "def rmse(y, yhat):\n",
        "    '''\n",
        "    Parameters\n",
        "    ----------\n",
        "    y : array of shape (n, 1) for some integer n\n",
        "        Public dataset of target\n",
        "\n",
        "    yhat : array of shape (n, 1) for some integer n\n",
        "        Predictions for target    \n",
        "\n",
        "    Returns\n",
        "    -------\n",
        "    val_rmse : float\n",
        "        Value of the RMSE\n",
        "    '''  \n",
        "    \n",
        "    # TO COMPLETE\n",
        "\n",
        "    val_rmse = 0\n",
        "\n",
        "    return val_rmse\n"
      ]
    },
    {
      "cell_type": "markdown",
      "metadata": {
        "id": "sGW3p1rtKm1A"
      },
      "source": [
        "In the following code block, compute the RMSE of the OLS prediction using the `rmse` function you implemented above."
      ]
    },
    {
      "cell_type": "code",
      "execution_count": null,
      "metadata": {
        "colab": {
          "base_uri": "https://localhost:8080/"
        },
        "id": "x8IEK7FxKm1A",
        "outputId": "ee43961d-6ce3-4dbe-b087-2db00b000a4e"
      },
      "outputs": [
        {
          "name": "stdout",
          "output_type": "stream",
          "text": [
            "The RMSE of OLS is 0.\n"
          ]
        }
      ],
      "source": [
        "rmse_ols = rmse(y, yhat_ols)\n",
        "\n",
        "print('The RMSE of OLS is {}.'.format(rmse_ols))"
      ]
    },
    {
      "cell_type": "markdown",
      "metadata": {
        "id": "VOSjFACSKm1B"
      },
      "source": [
        "In the following code block, you will plot the performance of the `LinRegLap` method against a range of $\\epsilon$'s. The performance is measured using the RMSE value between its predictions and true targets. The method has higher performance if RMSE is low. Since the mechanism is random, we will compare the performance by taking the **median** RMSE (not the mean) over several runs. You can compute the median of an array using `np.median` method.\n",
        "\n",
        "Complete the following code block by plotting the performace of the `LinRegLap` method with $\\epsilon$ on the x-axis, and median RMSE on the y-axis. As a baseline, plot the RMSE of the OLS prediction in the same figure. This should be a horizontal line because the RMSE of OLS prediction does not vary with $\\epsilon$."
      ]
    },
    {
      "cell_type": "code",
      "execution_count": null,
      "metadata": {
        "colab": {
          "base_uri": "https://localhost:8080/",
          "height": 300
        },
        "id": "7KZ-asv_Km1B",
        "outputId": "72a794a6-c671-4c94-d5c2-ddfd06cb6e02"
      },
      "outputs": [
        {
          "name": "stderr",
          "output_type": "stream",
          "text": [
            "WARNING:matplotlib.legend:No handles with labels found to put in legend.\n"
          ]
        },
        {
          "data": {
            "image/png": "[encoded data removed]",
            "text/plain": [
              "<Figure size 432x288 with 1 Axes>"
            ]
          },
          "metadata": {
            "needs_background": "light"
          },
          "output_type": "display_data"
        }
      ],
      "source": [
        "num_iter = 1000\n",
        "eps_arr = np.linspace(1, 5, num=10)\n",
        "\n",
        "# TO COMPLETE\n",
        "\n",
        "for i, eps in enumerate(eps_arr):\n",
        "    for j in range(num_iter):\n",
        "        # TO COMPLETE\n",
        "        pass\n",
        "\n",
        "fig = plt.figure()\n",
        "# TO COMPLETE\n",
        "plt.legend(loc=\"upper right\")\n",
        "plt.xlabel(\"$\\epsilon$\")\n",
        "plt.ylabel(\"RMSE\")\n",
        "plt.show()\n",
        "\n"
      ]
    },
    {
      "cell_type": "markdown",
      "metadata": {
        "id": "9W9utxTtKm1B"
      },
      "source": [
        "State your observations from the previous plot below. For example, discuss why the RMSE for $\\hat{\\beta}_{Lap}$ could be very large for small values of $\\epsilon$. Does the RMSE for $\\hat{\\beta}_{Lap}$ reach the level of RMSE for $\\hat{\\beta}_{OLS}$ for large $\\epsilon$, or is there always a gap between the two, and if so, why? \n",
        "\n",
        "#### Observations\n",
        "\n",
        "--TO COMPLETE--"
      ]
    },
    {
      "cell_type": "markdown",
      "metadata": {
        "id": "NIXbhUr1Km1B"
      },
      "source": [
        "Q. Using the post-processing property and composition of DP, argue why `LinRegLap` is $\\epsilon$-DP.\n",
        "\n",
        "A. --TO COMPLETE--"
      ]
    },
    {
      "cell_type": "markdown",
      "metadata": {
        "id": "9YozXUW2Km1B"
      },
      "source": [
        "### Q2.3 Linear Regression with Gradient Descent"
      ]
    },
    {
      "cell_type": "markdown",
      "metadata": {
        "id": "vAypTBCOKm1B"
      },
      "source": [
        "For this question, you will estimate $\\hat{\\beta}$ for linear regression using gradient descent. Recall that in gradient descent, we start from an arbitraty initialization $\\hat{\\beta}_0$ for $\\hat{\\beta}$ and update $\\hat{\\beta}$ using the following equation.\n",
        "\n",
        "$\\hat{\\beta}_{t+1} = \\hat{\\beta}_t - \\alpha \\nabla L(\\hat{\\beta}_t)$,\n",
        "\n",
        "where $t$ is the iteration number running from $1$ to $T$ (maximum number of gradient steps), $\\alpha$ is the step-size and $\\nabla L(\\hat{\\beta}_t)$ is the gradient of the loss evaluated at $\\hat{\\beta}_t$. For this question, we will use the mean squared loss function. That is,\n",
        "\n",
        "$L(\\beta) = \\frac{1}{n} \\sum_{i=1}^n (y_i - (\\beta_0 x + \\beta_1))^2$.\n",
        "\n",
        "The gradient of loss is given by,\n",
        "\n",
        "$$\\nabla L(\\beta) = \n",
        "    \\begin{bmatrix} \n",
        "    \\frac{\\partial L(\\beta)}{\\partial \\beta_0}\\\\\n",
        "    \\frac{\\partial L(\\beta)}{\\partial \\beta_1}\n",
        "    \\end{bmatrix}\n",
        "$$\n",
        "\n",
        "Q. Write the expressions for $\\frac{\\partial L(\\beta)}{\\partial \\beta_0}$ and $\\frac{\\partial L(\\beta)}{\\partial \\beta_1}$ in terms of $\\{(x_i, y_i)\\}_{i=1}^n$.\n",
        "\n",
        "A. --TO COMPLETE--"
      ]
    },
    {
      "cell_type": "markdown",
      "metadata": {
        "id": "mGaLCZPWKm1B"
      },
      "source": [
        "In the following code block, implement the function `LinRegGD` that computes $\\beta$ using gradient descent."
      ]
    },
    {
      "cell_type": "code",
      "execution_count": null,
      "metadata": {
        "id": "5hFeVxaPKm1B"
      },
      "outputs": [],
      "source": [
        "def LinRegGD(x,y, step_size, num_steps):\n",
        "    '''\n",
        "    Parameters\n",
        "    ----------\n",
        "    x : array of shape (n, 1) for some integer n\n",
        "        Public dataset of regressor\n",
        "\n",
        "    y : array of shape (n, 1) for some integer n\n",
        "        Public dataset of target\n",
        "\n",
        "    step_size : float (positive)\n",
        "        Step size for gradient descent\n",
        "\n",
        "    num_steps : int (positive)\n",
        "        Number of gradient steps for gradient descent\n",
        "        \n",
        "    Returns\n",
        "    -------\n",
        "    beta_list : list of length num_steps, where each element is an array of shape (2, 1)\n",
        "        beta_list[t] is the estimate beta at step t\n",
        "        beta_list[t][0] is the slope\n",
        "        beta_list[t][1] is the y-intercept\n",
        "    '''      \n",
        "\n",
        "    n = y.size\n",
        "    beta = np.zeros((2,1))\n",
        "    beta_list = [beta]\n",
        "\n",
        "    for i in range(num_steps):\n",
        "        # TO COMPLETE\n",
        "        pass\n",
        "\n",
        "    return beta_list"
      ]
    },
    {
      "cell_type": "markdown",
      "metadata": {
        "id": "A7qKBRZ9Km1C"
      },
      "source": [
        "In the following code block, test the `LinRegGD` function on scaled and centered data $(xs, ys)$ of $(x,y)$. Note that `LinRegGD` returns a list of $\\hat{\\beta}_t$ for each step $t$ of the gradient descent. Plot the RMSE of each of the $\\{\\hat{\\beta}_t\\}_{t=1}^T$ as a function of $t$. Also plot $\\| \\hat{\\beta}_t - \\hat{\\beta}_{OLS}\\|_2$ as a function of $t$. To compute $\\|\\cdot\\|_2$, use `np.linalg.norm`."
      ]
    },
    {
      "cell_type": "code",
      "execution_count": null,
      "metadata": {
        "colab": {
          "base_uri": "https://localhost:8080/",
          "height": 566
        },
        "id": "kvkaCHpTKm1C",
        "outputId": "d2a70aa4-9a92-4ddc-e4b6-1faf9cf0ae03"
      },
      "outputs": [
        {
          "data": {
            "text/plain": [
              "Text(0, 0.5, '$||\\\\beta_t - \\\\beta_{OLS}||_2$')"
            ]
          },
          "execution_count": 30,
          "metadata": {},
          "output_type": "execute_result"
        },
        {
          "data": {
            "image/png": "[encoded data removed]",
            "text/plain": [
              "<Figure size 432x288 with 1 Axes>"
            ]
          },
          "metadata": {
            "needs_background": "light"
          },
          "output_type": "display_data"
        },
        {
          "data": {
            "image/png": "[encoded data removed]",
            "text/plain": [
              "<Figure size 432x288 with 1 Axes>"
            ]
          },
          "metadata": {
            "needs_background": "light"
          },
          "output_type": "display_data"
        }
      ],
      "source": [
        "num_steps = 10\n",
        "step_size = 20\n",
        "\n",
        "# load the data\n",
        "\n",
        "x = np.array(data['duration']).reshape(-1, 1)\n",
        "y = np.array(data['credit_amount']).reshape(-1, 1)\n",
        "\n",
        "# scale the data using Bx and By\n",
        "\n",
        "xs = x/Bx\n",
        "ys = y/By\n",
        "\n",
        "# center the data by subtracting out the mean\n",
        "\n",
        "xs = xs - np.mean(xs)\n",
        "ys = ys - np.mean(ys)\n",
        "\n",
        "# TO COMPLETE\n",
        "\n",
        "for i in range(num_steps):\n",
        "    # TO COMPLETE\n",
        "    pass\n",
        "\n",
        "plt.figure()\n",
        "# TO COMPLETE\n",
        "plt.xlabel('GD Iteration')\n",
        "plt.ylabel('RMSE')\n",
        "\n",
        "plt.figure()\n",
        "# TO COMPLETE\n",
        "plt.xlabel('GD Iteration')\n",
        "plt.ylabel(r'$||\\beta_t - \\beta_{OLS}||_2$')"
      ]
    },
    {
      "cell_type": "markdown",
      "metadata": {
        "id": "ND9_oOZ-Km1C"
      },
      "source": [
        "### Q2.4 Linear Regression with Differentially Private Gradient Descent (DPGD)\n",
        "\n",
        "For this question, you will implement an $\\epsilon$-DP mechanism for estimating $\\hat{\\beta}$ of the scaled and centered data $(xs, ys)$ used previously. \n",
        "\n",
        "Q. Note that $xs_i, ys_i \\in [-1, 1]$. Assume that $\\hat{\\beta}_0, \\hat{\\beta}_1 \\in [-1,1]$. Recall the expressions for $\\frac{\\partial L(\\beta)}{\\partial \\beta_0}$ and $\\frac{\\partial L(\\beta)}{\\partial \\beta_1}$ in terms of $\\{(xs_i, ys_i)\\}_{i=1}^n$. Combining these facts, state the sensitivity of $\\frac{\\partial L(\\beta)}{\\partial \\beta_0}$ and $\\frac{\\partial L(\\beta)}{\\partial \\beta_1}$ in terms of $n$.\n",
        "\n",
        "A. --TO COMPLETE--"
      ]
    },
    {
      "cell_type": "markdown",
      "metadata": {
        "id": "Od3CU9BPKm1C"
      },
      "source": [
        "Q. Using the formula for the sensitivity of $\\frac{\\partial L(\\beta)}{\\partial \\beta_0}$ and $\\frac{\\partial L(\\beta)}{\\partial \\beta_1}$ from the previous answer, determine what scale of Laplace noise should be added to the gradient in each of the $T$ steps of gradient descent so as to make the overall noisy GD satisfy $\\epsilon$-DP. Your answer should be in terms of $n$, $\\epsilon$ and $T$.\n",
        "\n",
        "A. --TO COMPLETE--"
      ]
    },
    {
      "cell_type": "markdown",
      "metadata": {
        "id": "pSDt20NGKm1C"
      },
      "source": [
        "In the following code block, complete the `LinRegDPGD` function that implements $\\epsilon$-DP mechanism for estimating $\\hat{\\beta}$ using the DPGD algorithm."
      ]
    },
    {
      "cell_type": "code",
      "execution_count": null,
      "metadata": {
        "id": "jsPbisxrKm1C"
      },
      "outputs": [],
      "source": [
        "def LinRegDPGD(x,y, step_size, num_steps, eps):\n",
        "    '''\n",
        "    Parameters\n",
        "    ----------\n",
        "    x : array of shape (n, 1) for some integer n\n",
        "        Public dataset of regressor\n",
        "\n",
        "    y : array of shape (n, 1) for some integer n\n",
        "        Public dataset of target\n",
        "\n",
        "    step_size : float (positive)\n",
        "        Step size for gradient descent\n",
        "\n",
        "    num_steps : int (positive)\n",
        "        Number of gradient steps for gradient descent\n",
        "\n",
        "    eps : float (positive)\n",
        "        epsilon budget for DP            \n",
        "        \n",
        "    Returns\n",
        "    -------\n",
        "    beta_list : list of length num_steps, where each element is an array of shape (2, 1)\n",
        "        beta_list[t] is the DP estimate beta at step t\n",
        "        beta_list[t][0] is the slope\n",
        "        beta_list[t][1] is the y-intercept\n",
        "    '''      \n",
        "\n",
        "    n = y.size\n",
        "    beta = np.zeros((2,1))\n",
        "    beta_list = [beta]\n",
        "\n",
        "    # TO COMPLETE\n",
        "\n",
        "    for i in range(num_steps):\n",
        "        # TO COMPLETE\n",
        "        pass\n",
        "\n",
        "    return beta_list"
      ]
    },
    {
      "cell_type": "markdown",
      "metadata": {
        "id": "FIUAW2GhKm1D"
      },
      "source": [
        "In the following code block, test the `LinRegDPGD` function on scaled and centered data $(xs, ys)$ of $(x,y)$. Note that `LinRegDPGD` returns a list of $\\hat{\\beta}_t$ for each step $t$ of the gradient descent. Plot the RMSE of each of the $\\{\\hat{\\beta}_t\\}_{t=1}^T$ as a function of $t$. Also plot $\\| \\hat{\\beta}_t - \\hat{\\beta}_{OLS}\\|_2$ as a function of $t$. To compute $\\|\\cdot\\|_2$, use `np.linalg.norm`."
      ]
    },
    {
      "cell_type": "code",
      "execution_count": null,
      "metadata": {
        "colab": {
          "base_uri": "https://localhost:8080/",
          "height": 566
        },
        "id": "5b42jOyKKm1D",
        "outputId": "ff5adf92-7ee8-448c-bd35-5907973a9740"
      },
      "outputs": [
        {
          "data": {
            "text/plain": [
              "Text(0, 0.5, '$||\\\\beta_t - \\\\beta_{OLS}||_2$')"
            ]
          },
          "execution_count": 32,
          "metadata": {},
          "output_type": "execute_result"
        },
        {
          "data": {
            "image/png": "[encoded data removed]",
            "text/plain": [
              "<Figure size 432x288 with 1 Axes>"
            ]
          },
          "metadata": {
            "needs_background": "light"
          },
          "output_type": "display_data"
        },
        {
          "data": {
            "image/png": "[encoded data removed]",
            "text/plain": [
              "<Figure size 432x288 with 1 Axes>"
            ]
          },
          "metadata": {
            "needs_background": "light"
          },
          "output_type": "display_data"
        }
      ],
      "source": [
        "eps = 5\n",
        "\n",
        "num_steps = 10\n",
        "step_size = 1\n",
        "\n",
        "# TO COMPLETE\n",
        "\n",
        "for i in range(num_steps):\n",
        "    # TO COMPLETE\n",
        "    pass\n",
        "\n",
        "plt.figure()\n",
        "# TO COMPLETE\n",
        "plt.xlabel('GD Iteration')\n",
        "plt.ylabel('RMSE')\n",
        "\n",
        "plt.figure()\n",
        "# TO COMPLETE\n",
        "plt.xlabel('GD Iteration')\n",
        "plt.ylabel(r'$||\\beta_t - \\beta_{OLS}||_2$')"
      ]
    },
    {
      "cell_type": "markdown",
      "metadata": {
        "id": "PVg9XWuiKm1D"
      },
      "source": [
        "In the following code block, you will plot the performance of the `LinRegDPGD` method against a range of $\\epsilon$'s. The performance is measured using the RMSE value between its predictions and true targets. The method has higher performance if RMSE is low. Since the mechanism is random, we will compare the performance by taking the **median** RMSE (not the mean) over several runs. You can compute the median of an array using `np.median` method.\n",
        "\n",
        "Complete the following code block by plotting the performace of the `LinRegDPGD` method with $\\epsilon$ on the x-axis, and median RMSE on the y-axis. As a baseline, plot the RMSE of the OLS prediction in the same figure. This should be a horizontal line because the RMSE of OLS prediction does not vary with $\\epsilon$. As a second baseline, plot the RMSE of the `LinRegGD` in the same figure. This should also be a horizontal line because the RMSE of OLS prediction does not vary with $\\epsilon$.\n",
        "\n",
        "For the next code block, use the scaled and centered data $(xs, ys)$ (instead of $(x, y)$) computed in a previous code plot with all three methods `LinReg`, `LinRegGD` and `LinRegDPGD`"
      ]
    },
    {
      "cell_type": "code",
      "execution_count": null,
      "metadata": {
        "colab": {
          "base_uri": "https://localhost:8080/",
          "height": 279
        },
        "id": "w7NlhHe6Km1D",
        "outputId": "cbe91699-4201-4347-ffa6-f8e568249f67"
      },
      "outputs": [
        {
          "data": {
            "image/png": "[encoded data removed]",
            "text/plain": [
              "<Figure size 432x288 with 1 Axes>"
            ]
          },
          "metadata": {
            "needs_background": "light"
          },
          "output_type": "display_data"
        }
      ],
      "source": [
        "beta_ols = LinReg(xs,ys)\n",
        "# TO COMPLETE\n",
        "rmse_ols = np.zeros_like(eps_arr)\n",
        "\n",
        "num_steps = 10\n",
        "step_size = 10\n",
        "\n",
        "beta_gd = LinRegGD(xs,ys, step_size, num_steps)[-1]\n",
        "# TO COMPLETE\n",
        "rmse_gd = np.zeros_like(eps_arr)\n",
        "\n",
        "\n",
        "num_iter = 100\n",
        "eps_arr = np.linspace(1, 10, num=10)\n",
        "# TO COMPLETE\n",
        "rmse_dpgd = np.zeros((eps_arr.size, num_iter))\n",
        "\n",
        "\n",
        "num_steps = 10\n",
        "step_size = 1\n",
        "\n",
        "for i, eps in enumerate(eps_arr):\n",
        "    for j in range(num_iter):\n",
        "        # TO COMPLETE\n",
        "        pass\n",
        "\n",
        "fig = plt.figure()\n",
        "plt.plot(eps_arr, rmse_ols, label='OLS')\n",
        "plt.plot(eps_arr, rmse_gd, label='GD')\n",
        "plt.plot(eps_arr, np.median(rmse_dpgd, axis=1), label='DPGD')\n",
        "plt.legend(loc=\"upper right\")\n",
        "plt.xlabel(\"$\\epsilon$\")\n",
        "plt.ylabel(\"RMSE\")\n",
        "plt.show()"
      ]
    },
    {
      "cell_type": "markdown",
      "metadata": {
        "id": "kJaJQ-wRKm1D"
      },
      "source": [
        "State your observations from the previous plot below. \n",
        "\n",
        "#### Observations\n",
        "\n",
        "--TO COMPLETE--"
      ]
    },
    {
      "cell_type": "markdown",
      "metadata": {
        "id": "cN-wuASVKm1D"
      },
      "source": [
        "## Declaration\n",
        "\n",
        "I declare that this assignment is my original work and that I have not plagiarized or used any unauthorized resources in completing it. By submitting this assignment, I confirm my understanding of the academic integrity policies of this institution.\n",
        "\n",
        "**Name:**  --PLEASE ENTER YOUR NAME--"
      ]
    }
  ],
  "metadata": {
    "colab": {
      "provenance": []
    },
    "kernelspec": {
      "display_name": "Python 3",
      "language": "python",
      "name": "python3"
    },
    "language_info": {
      "codemirror_mode": {
        "name": "ipython",
        "version": 3
      },
      "file_extension": ".py",
      "mimetype": "text/x-python",
      "name": "python",
      "nbconvert_exporter": "python",
      "pygments_lexer": "ipython3",
      "version": "3.10.2"
    },
    "orig_nbformat": 4,
    "vscode": {
      "interpreter": {
        "hash": "369f2c481f4da34e4445cda3fffd2e751bd1c4d706f27375911949ba6bb62e1c"
      }
    }
  },
  "nbformat": 4,
  "nbformat_minor": 0
}
